{
 "cells": [
  {
   "cell_type": "code",
   "execution_count": 1,
   "metadata": {},
   "outputs": [],
   "source": [
    "#首先将用到的包进行导入\n",
    "import pandas as pd\n",
    "import numpy as np\n",
    "import jieba\n",
    "import re\n",
    "from sklearn.feature_extraction.text import TfidfVectorizer, CountVectorizer\n",
    "from sklearn import model_selection \n",
    "from sklearn import preprocessing"
   ]
  },
  {
   "cell_type": "code",
   "execution_count": 2,
   "metadata": {},
   "outputs": [
    {
     "name": "stdout",
     "output_type": "stream",
     "text": [
      "(7703,) (1926,)\n"
     ]
    }
   ],
   "source": [
    "#将数据进行读取\n",
    "data=pd.read_csv('./new_reviews_score_update.csv',index_col=0)\n",
    "#现在是划分数据集\n",
    "#random_state 取值，这是为了在不同环境中，保证随机数取值一致，以便验证模型的实际效果。\n",
    "train_x,test_x,train_y,test_y=model_selection.train_test_split(data.评论.values.astype('U'),data.评分.values,test_size=0.2,random_state=1)\n",
    " \n",
    "#划分完毕，查看数据形状\n",
    "print(train_x.shape,test_x.shape)\n",
    "#train_x 训练集数据 test_x 测试集数据  train_y训练集的标签 test_y 测试集的标签\n",
    "t_y=test_y"
   ]
  },
  {
   "cell_type": "code",
   "execution_count": 3,
   "metadata": {},
   "outputs": [],
   "source": [
    "from jieba import lcut\n",
    "from numpy import zeros\n",
    "import matplotlib.pyplot as plt\n",
    "from gensim.models import Word2Vec\n",
    "from sklearn.model_selection import train_test_split\n",
    "from tensorflow.python.keras.preprocessing.sequence import pad_sequences\n",
    "from tensorflow.python.keras.models import Sequential\n",
    "from tensorflow.python.keras.layers import Dense, LSTM, GRU, Embedding\n",
    "from tensorflow.python.keras.callbacks import EarlyStopping\n",
    "from tensorflow import sparse\n",
    "import tensorflow  as tf"
   ]
  },
  {
   "cell_type": "code",
   "execution_count": 9,
   "metadata": {},
   "outputs": [],
   "source": [
    "#定义函数，从哈工大中文停用词表里面，把停用词作为列表格式保存并返回 在这里加上停用词表是因为TfidfVectorizer和CountVectorizer的函数中\n",
    "#可以根据提供用词里列表进行去停用词\n",
    "def get_stopwords(stop_word_file):\n",
    "    with open(stop_word_file,encoding='UTF-8') as f:\n",
    "        stopwords=f.read()\n",
    "    stopwords_list=stopwords.split('\\n')\n",
    "    custom_stopwords_list=[i for i in stopwords_list]\n",
    "    return custom_stopwords_list"
   ]
  },
  {
   "cell_type": "code",
   "execution_count": 10,
   "metadata": {},
   "outputs": [
    {
     "name": "stderr",
     "output_type": "stream",
     "text": [
      "c:\\Users\\a\\AppData\\Local\\Programs\\Python\\Python36\\lib\\site-packages\\sklearn\\feature_extraction\\text.py:391: UserWarning: Your stop_words may be inconsistent with your preprocessing. Tokenizing the stop words generated tokens ['exp', 'lex', '①①', '①②', '①③', '①④', '①⑤', '①⑥', '①⑦', '①⑧', '①⑨', '①ａ', '①ｂ', '①ｃ', '①ｄ', '①ｅ', '①ｆ', '①ｇ', '①ｈ', '①ｉ', '①ｏ', '②①', '②②', '②③', '②④', '②⑤', '②⑥', '②⑦', '②⑧', '②⑩', '②ａ', '②ｂ', '②ｄ', '②ｅ', '②ｆ', '②ｇ', '②ｈ', '②ｉ', '②ｊ', '③①', '③⑩', '③ａ', '③ｂ', '③ｃ', '③ｄ', '③ｅ', '③ｆ', '③ｇ', '③ｈ', '④ａ', '④ｂ', '④ｃ', '④ｄ', '④ｅ', '⑤ａ', '⑤ｂ', '⑤ｄ', '⑤ｅ', '⑤ｆ', '１２', 'ｌｉ', 'ｚｘｆｉｔｌ'] not in stop_words.\n",
      "  'stop_words.' % sorted(inconsistent))\n"
     ]
    }
   ],
   "source": [
    "stopwords=get_stopwords('./hit_stopwords.txt')\n",
    "#开始使用TF-IDF进行特征的提取，对分词后的中文语句做向量化。\n",
    "#引进TF-IDF的包\n",
    "TF_Vec=TfidfVectorizer(max_df=0.8,\n",
    "                       min_df = 3,\n",
    "                       stop_words=frozenset(stopwords)\n",
    "                      )\n",
    "#拟合数据，将数据准转为标准形式，一般使用在训练集中\n",
    "train_x_tfvec=TF_Vec.fit_transform(train_x)\n",
    "#通过中心化和缩放实现标准化，一般使用在测试集中\n",
    "test_x_tfvec=TF_Vec.transform(test_x)"
   ]
  },
  {
   "cell_type": "code",
   "execution_count": 11,
   "metadata": {},
   "outputs": [],
   "source": [
    "\n",
    "from keras.preprocessing.sequence import pad_sequences\n",
    "from keras.preprocessing.text import Tokenizer\n",
    "from keras.layers.merge import concatenate\n",
    "from keras.models import Sequential, Model\n",
    "from keras.layers import Dense, Embedding, Activation, merge, Input, Lambda, Reshape\n",
    "from keras.layers import Convolution1D, Flatten, Dropout, MaxPool1D, GlobalAveragePooling1D\n",
    "from keras.layers import LSTM, GRU, TimeDistributed, Bidirectional\n",
    "from keras.utils.np_utils import to_categorical\n",
    "from keras import initializers\n",
    "from keras import backend as K\n",
    "from sklearn.naive_bayes import MultinomialNB\n",
    "from sklearn.linear_model import SGDClassifier\n",
    "from sklearn.feature_extraction.text import TfidfVectorizer\n",
    "import pandas as pd\n",
    "import numpy as np"
   ]
  },
  {
   "cell_type": "code",
   "execution_count": 12,
   "metadata": {},
   "outputs": [],
   "source": [
    "#将标签转化为one-hot编码\n",
    "from sklearn.preprocessing import LabelBinarizer\n",
    "encoder = LabelBinarizer()\n",
    "train_y = encoder.fit_transform(train_y)\n",
    "test_y=encoder.fit_transform(test_y)\n",
    "train_x_tfvec=train_x_tfvec.toarray()\n",
    "test_x_tfvec=test_x_tfvec.toarray()\n"
   ]
  },
  {
   "cell_type": "code",
   "execution_count": null,
   "metadata": {},
   "outputs": [
    {
     "data": {
      "text/plain": [
       "(7703, 55000)"
      ]
     },
     "execution_count": 8,
     "metadata": {},
     "output_type": "execute_result"
    }
   ],
   "source": [
    "train_x_tfvec.shape"
   ]
  },
  {
   "cell_type": "code",
   "execution_count": null,
   "metadata": {},
   "outputs": [
    {
     "name": "stdout",
     "output_type": "stream",
     "text": [
      "Model: \"sequential\"\n",
      "_________________________________________________________________\n",
      "Layer (type)                 Output Shape              Param #   \n",
      "=================================================================\n",
      "dense (Dense)                (None, 64)                3520064   \n",
      "_________________________________________________________________\n",
      "dropout (Dropout)            (None, 64)                0         \n",
      "_________________________________________________________________\n",
      "dense_1 (Dense)              (None, 3)                 195       \n",
      "=================================================================\n",
      "Total params: 3,520,259\n",
      "Trainable params: 3,520,259\n",
      "Non-trainable params: 0\n",
      "_________________________________________________________________\n"
     ]
    }
   ],
   "source": [
    "model = Sequential()\n",
    " \n",
    "#构建Embedding层\n",
    "model.add(Dense(64,input_shape=(train_x_tfvec.shape[1],),activation='relu'))\n",
    "model.add(Dropout(0.5))\n",
    "model.add(Dense(3, activation='softmax'))\n",
    "#模型可视化\n",
    "model.summary()"
   ]
  },
  {
   "cell_type": "code",
   "execution_count": null,
   "metadata": {},
   "outputs": [
    {
     "name": "stdout",
     "output_type": "stream",
     "text": [
      "Epoch 1/10\n",
      "121/121 [==============================] - 3s 21ms/step - loss: 0.9975 - acc: 0.5080 - val_loss: 0.8934 - val_acc: 0.6449\n",
      "Epoch 2/10\n",
      "121/121 [==============================] - 2s 19ms/step - loss: 0.7210 - acc: 0.7576 - val_loss: 0.7672 - val_acc: 0.6921\n",
      "Epoch 3/10\n",
      "121/121 [==============================] - 2s 18ms/step - loss: 0.4843 - acc: 0.8706 - val_loss: 0.6980 - val_acc: 0.7113\n",
      "Epoch 4/10\n",
      "121/121 [==============================] - 2s 18ms/step - loss: 0.3136 - acc: 0.9268 - val_loss: 0.6639 - val_acc: 0.7264\n",
      "Epoch 5/10\n",
      "121/121 [==============================] - 2s 18ms/step - loss: 0.2117 - acc: 0.9570 - val_loss: 0.6593 - val_acc: 0.7357\n",
      "Epoch 6/10\n",
      "121/121 [==============================] - 2s 18ms/step - loss: 0.1489 - acc: 0.9716 - val_loss: 0.6702 - val_acc: 0.7331\n",
      "Epoch 7/10\n",
      "121/121 [==============================] - 2s 18ms/step - loss: 0.1111 - acc: 0.9812 - val_loss: 0.6856 - val_acc: 0.7316\n",
      "Epoch 8/10\n",
      "121/121 [==============================] - 2s 18ms/step - loss: 0.0864 - acc: 0.9851 - val_loss: 0.7069 - val_acc: 0.7305\n",
      "Epoch 9/10\n",
      "121/121 [==============================] - 2s 18ms/step - loss: 0.0702 - acc: 0.9871 - val_loss: 0.7352 - val_acc: 0.7285\n",
      "Epoch 10/10\n",
      "121/121 [==============================] - 2s 18ms/step - loss: 0.0585 - acc: 0.9888 - val_loss: 0.7516 - val_acc: 0.7310\n",
      "31/31 [==============================] - 0s 6ms/step - loss: 0.7516 - acc: 0.7310\n",
      "test loss: 0.7516465783119202\n",
      "test accuracy: 0.7310488224029541\n"
     ]
    }
   ],
   "source": [
    "#激活神经网络 \n",
    "model.compile(optimizer = 'adam',              #adam优化器\n",
    "              loss = 'categorical_crossentropy',       #二元交叉熵损失\n",
    "              metrics = ['acc']                   #计算误差或准确率\n",
    "              )\n",
    " \n",
    "#训练\n",
    "history = model.fit(train_x_tfvec, train_y, batch_size=64, epochs=10, \n",
    "                    verbose=True, validation_data=(test_x_tfvec, test_y))\n",
    " \n",
    "#----------------------------------预测与可视化------------------------------\n",
    "#预测\n",
    "score = model.evaluate(test_x_tfvec,test_y, batch_size=64)\n",
    "print('test loss:', score[0])\n",
    "print('test accuracy:', score[1])"
   ]
  },
  {
   "cell_type": "code",
   "execution_count": null,
   "metadata": {},
   "outputs": [
    {
     "data": {
      "image/png": "[encoded data removed]",
      "text/plain": [
       "<Figure size 432x288 with 1 Axes>"
      ]
     },
     "metadata": {
      "needs_background": "light"
     },
     "output_type": "display_data"
    },
    {
     "data": {
      "image/png": "[encoded data removed]",
      "text/plain": [
       "<Figure size 432x288 with 1 Axes>"
      ]
     },
     "metadata": {
      "needs_background": "light"
     },
     "output_type": "display_data"
    }
   ],
   "source": [
    "plt.plot(history.history['loss'],label = 'train_loss')\n",
    "plt.plot(history.history['val_loss'], label = 'testing_loss')\n",
    "plt.title('loss')\n",
    "plt.legend()\n",
    "plt.show()\n",
    "\n",
    "plt.plot(history.history['acc'], label='training_accuracy')\n",
    "plt.plot(history.history['val_acc'], label='validation acc')\n",
    "plt.title('Accuracy')\n",
    "plt.legend()\n",
    "plt.show()"
   ]
  },
  {
   "cell_type": "code",
   "execution_count": null,
   "metadata": {},
   "outputs": [],
   "source": [
    "model.save('./model/TD-IDF+NN.h5')"
   ]
  },
  {
   "cell_type": "code",
   "execution_count": 13,
   "metadata": {},
   "outputs": [],
   "source": [
    "from keras.models import load_model\n",
    "model=load_model('./model/TD-IDF+NN.h5')"
   ]
  },
  {
   "cell_type": "code",
   "execution_count": 14,
   "metadata": {},
   "outputs": [],
   "source": [
    "pre_y=np.argmax(model.predict(test_x_tfvec),axis=1)\n",
    "test_y=t_y"
   ]
  },
  {
   "cell_type": "code",
   "execution_count": 15,
   "metadata": {},
   "outputs": [],
   "source": [
    "from sklearn.metrics import accuracy_score\n",
    "from sklearn.metrics import f1_score\n",
    "from sklearn.metrics import recall_score\n",
    "from sklearn.metrics import precision_score"
   ]
  },
  {
   "cell_type": "code",
   "execution_count": 16,
   "metadata": {},
   "outputs": [],
   "source": [
    "test_accracy = accuracy_score(test_y,pre_y)\n",
    "F1_score=f1_score(test_y,pre_y,average='macro')\n",
    "Recall_score=recall_score(test_y,pre_y,average='macro')\n",
    "Precision_score=precision_score(test_y,pre_y,average='macro')"
   ]
  },
  {
   "cell_type": "code",
   "execution_count": 17,
   "metadata": {},
   "outputs": [
    {
     "name": "stdout",
     "output_type": "stream",
     "text": [
      "Acc= 0.731048805815161\n",
      "Precision_score 0.7389869873800544\n",
      "Recall_score 0.7318243186345629\n",
      "F1_score 0.7347783129497875\n"
     ]
    }
   ],
   "source": [
    "print(\"Acc=\",test_accracy)\n",
    "print(\"Precision_score\",Precision_score)\n",
    "print(\"Recall_score\",Recall_score)\n",
    "print(\"F1_score\",F1_score)"
   ]
  },
  {
   "cell_type": "markdown",
   "metadata": {},
   "source": []
  }
 ],
 "metadata": {
  "kernelspec": {
   "display_name": "Python 3.6.3 64-bit",
   "language": "python",
   "name": "python3"
  },
  "language_info": {
   "codemirror_mode": {
    "name": "ipython",
    "version": 3
   },
   "file_extension": ".py",
   "mimetype": "text/x-python",
   "name": "python",
   "nbconvert_exporter": "python",
   "pygments_lexer": "ipython3",
   "version": "3.6.3"
  },
  "orig_nbformat": 4,
  "vscode": {
   "interpreter": {
    "hash": "d1cac20a0be55dd1fe2f46a071e6ccfd0d69730ae8edcfbd71c03315cff00f8f"
   }
  }
 },
 "nbformat": 4,
 "nbformat_minor": 2
}
