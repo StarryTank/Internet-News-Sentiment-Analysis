{
 "cells": [
  {
   "cell_type": "code",
   "execution_count": 1,
   "metadata": {},
   "outputs": [],
   "source": [
    "import pandas as pd\n",
    "import numpy as np\n",
    "from tqdm import tqdm\n",
    "from keras.preprocessing.text import one_hot, Tokenizer\n",
    "from keras.preprocessing.sequence import pad_sequences\n",
    "from keras.models import Sequential\n",
    "from keras.wrappers.scikit_learn import KerasClassifier\n",
    "from keras.layers import Dense, Flatten, Embedding, LSTM, SpatialDropout1D, Input, Bidirectional,Dropout, Activation, GRU\n",
    "from sklearn.model_selection import train_test_split\n",
    "from keras.utils.np_utils import to_categorical"
   ]
  },
  {
   "cell_type": "code",
   "execution_count": 2,
   "metadata": {},
   "outputs": [],
   "source": [
    "train_data = pd.read_csv('Train_DataSet.csv',encoding='ANSI')\n",
    "train_label = pd.read_csv('Train_DataSet_Label.csv')\n",
    "train = pd.merge(train_data, train_label, how='left', on='id')\n",
    "train = train[(train.label.notnull()) & (train.content.notnull())]\n",
    "test = pd.read_csv('Test_DataSet.csv')\n",
    "\n",
    "train['title'] = train['title'].fillna('')\n",
    "train['content'] = train['content'].fillna('')\n",
    "test['title'] = test['title'].fillna('')\n",
    "test['content'] = test['content'].fillna('')"
   ]
  },
  {
   "cell_type": "code",
   "execution_count": 3,
   "metadata": {},
   "outputs": [],
   "source": [
    "import re\n",
    "def filter(text):\n",
    "    text = re.sub(\"[A-Za-z0-9\\!\\=\\？\\%\\[\\]\\,\\（\\）\\>\\<:&lt;\\/#\\. -----\\_]\", \"\", text)\n",
    "    text = text.replace('图片', '')\n",
    "    text = text.replace('\\xa0', '') # 删除nbsp\n",
    "    # new\n",
    "    r1 =  \"\\\\【.*?】+|\\\\《.*?》+|\\\\#.*?#+|[.!/_,$&%^*()<>+\"\"'?@|:~{}#]+|[——！\\\\\\，。=？、：“”‘’￥……（）《》【】]\"\n",
    "    cleanr = re.compile('<.*?>')\n",
    "    text = re.sub(cleanr, ' ', text)        #去除html标签\n",
    "    text = re.sub(r1,'',text)\n",
    "    text = text.strip()\n",
    "    return text\n"
   ]
  },
  {
   "cell_type": "code",
   "execution_count": 4,
   "metadata": {},
   "outputs": [],
   "source": [
    "def clean_text(data):\n",
    "    data['title'] = data['title'].apply(lambda x: filter(x))\n",
    "    data['content'] = data['content'].apply(lambda x: filter(x))\n",
    "    return data\n",
    "train = clean_text(train)\n",
    "test = clean_text(test)"
   ]
  },
  {
   "cell_type": "code",
   "execution_count": null,
   "metadata": {},
   "outputs": [],
   "source": [
    "def get_stopwords(stop_word_file):\n",
    "    with open(stop_word_file,encoding='UTF-8') as f:\n",
    "        stopwords=f.read()\n",
    "    stopwords_list=stopwords.split('\\n')\n",
    "    custom_stopwords_list=[i for i in stopwords_list]\n",
    "    return custom_stopwords_list"
   ]
  },
  {
   "cell_type": "code",
   "execution_count": 6,
   "metadata": {},
   "outputs": [],
   "source": [
    "import jieba\n",
    "import string\n",
    "def cut_text(sentence):\n",
    "    tokens = list(jieba.cut(sentence))\n",
    "    # 去除停用词\n",
    "    tokens = [token for token in tokens if token not in get]\n",
    "#     # 去除英文标点\n",
    "#     tokens = [w.translate(table) for w in tokens]\n",
    "    return tokens"
   ]
  },
  {
   "cell_type": "code",
   "execution_count": 7,
   "metadata": {},
   "outputs": [
    {
     "name": "stderr",
     "output_type": "stream",
     "text": [
      "Building prefix dict from the default dictionary ...\n",
      "Loading model from cache C:\\Users\\a\\AppData\\Local\\Temp\\jieba.cache\n",
      "Loading model cost 1.149 seconds.\n",
      "Prefix dict has been built successfully.\n"
     ]
    }
   ],
   "source": [
    "train_title = [cut_text(sent) for sent in train.title.values]\n",
    "train_content = [cut_text(sent) for sent in train.content.values]\n",
    "test_title = [cut_text(sent) for sent in test.title.values]\n",
    "test_content = [cut_text(sent) for sent in test.content.values]"
   ]
  },
  {
   "cell_type": "code",
   "execution_count": 8,
   "metadata": {},
   "outputs": [],
   "source": [
    "all_doc = train_title + train_content + test_title + test_content"
   ]
  },
  {
   "cell_type": "code",
   "execution_count": 9,
   "metadata": {},
   "outputs": [],
   "source": [
    "import gensim\n",
    "import time\n",
    "class EpochSaver(gensim.models.callbacks.CallbackAny2Vec):\n",
    "    '''用于保存模型, 打印损失函数等等'''\n",
    "    def __init__(self, save_path):\n",
    "        self.save_path = save_path\n",
    "        self.epoch = 0\n",
    "        self.pre_loss = 0\n",
    "        self.best_loss = 999999999.9\n",
    "        self.since = time.time()\n",
    "\n",
    "    def on_epoch_end(self, model):\n",
    "        self.epoch += 1\n",
    "        cum_loss = model.get_latest_training_loss() # 返回的是从第一个epoch累计的\n",
    "        epoch_loss = cum_loss - self.pre_loss\n",
    "        time_taken = time.time() - self.since\n",
    "        print(\"Epoch %d, loss: %.2f, time: %dmin %ds\" % \n",
    "                    (self.epoch, epoch_loss, time_taken//60, time_taken%60))\n",
    "        if self.best_loss > epoch_loss:\n",
    "            self.best_loss = epoch_loss\n",
    "            print(\"Better model. Best loss: %.2f\" % self.best_loss)\n",
    "            model.save(self.save_path)\n",
    "            print(\"Model %s save done!\" % self.save_path)\n",
    "\n",
    "        self.pre_loss = cum_loss\n",
    "        self.since = time.time()\n",
    "# model_word2vec = gensim.models.Word2Vec.load('final_word2vec_model')"
   ]
  },
  {
   "cell_type": "code",
   "execution_count": 10,
   "metadata": {},
   "outputs": [
    {
     "name": "stdout",
     "output_type": "stream",
     "text": [
      "Time to build vocab: 0min 8s\n"
     ]
    }
   ],
   "source": [
    "model_word2vec = gensim.models.Word2Vec(min_count=1, \n",
    "                                        window=5, \n",
    "                                        vector_size=256,\n",
    "                                        workers=4,\n",
    "                                        batch_words=1000)\n",
    "since = time.time()\n",
    "#根据all_doc(title+train建立词典)\n",
    "model_word2vec.build_vocab(all_doc, progress_per=2000)\n",
    "time_elapsed = time.time() - since\n",
    "print('Time to build vocab: {:.0f}min {:.0f}s'.format(time_elapsed // 60, time_elapsed % 60))"
   ]
  },
  {
   "cell_type": "code",
   "execution_count": 12,
   "metadata": {},
   "outputs": [
    {
     "name": "stdout",
     "output_type": "stream",
     "text": [
      "Epoch 1, loss: 3537066.00, time: 0min 10s\n",
      "Better model. Best loss: 3537066.00\n",
      "Model ./final_word2vec_model save done!\n",
      "Epoch 2, loss: 2571392.00, time: 0min 9s\n",
      "Better model. Best loss: 2571392.00\n",
      "Model ./final_word2vec_model save done!\n",
      "Epoch 3, loss: 2172988.00, time: 0min 9s\n",
      "Better model. Best loss: 2172988.00\n",
      "Model ./final_word2vec_model save done!\n",
      "Epoch 4, loss: 1720656.00, time: 0min 9s\n",
      "Better model. Best loss: 1720656.00\n",
      "Model ./final_word2vec_model save done!\n",
      "Epoch 5, loss: 1678450.00, time: 0min 9s\n",
      "Better model. Best loss: 1678450.00\n",
      "Model ./final_word2vec_model save done!\n",
      "Epoch 6, loss: 1446310.00, time: 0min 9s\n",
      "Better model. Best loss: 1446310.00\n",
      "Model ./final_word2vec_model save done!\n",
      "Epoch 7, loss: 1479100.00, time: 0min 9s\n",
      "Epoch 8, loss: 1404266.00, time: 0min 9s\n",
      "Better model. Best loss: 1404266.00\n",
      "Model ./final_word2vec_model save done!\n",
      "Epoch 9, loss: 1250414.00, time: 0min 9s\n",
      "Better model. Best loss: 1250414.00\n",
      "Model ./final_word2vec_model save done!\n",
      "Epoch 10, loss: 1040296.00, time: 0min 9s\n",
      "Better model. Best loss: 1040296.00\n",
      "Model ./final_word2vec_model save done!\n",
      "Epoch 11, loss: 1004670.00, time: 0min 9s\n",
      "Better model. Best loss: 1004670.00\n",
      "Model ./final_word2vec_model save done!\n",
      "Epoch 12, loss: 872858.00, time: 0min 9s\n",
      "Better model. Best loss: 872858.00\n",
      "Model ./final_word2vec_model save done!\n",
      "Epoch 13, loss: 852342.00, time: 0min 9s\n",
      "Better model. Best loss: 852342.00\n",
      "Model ./final_word2vec_model save done!\n",
      "Epoch 14, loss: 876028.00, time: 0min 9s\n",
      "Epoch 15, loss: 842940.00, time: 0min 9s\n",
      "Better model. Best loss: 842940.00\n",
      "Model ./final_word2vec_model save done!\n",
      "Epoch 16, loss: 833284.00, time: 0min 9s\n",
      "Better model. Best loss: 833284.00\n",
      "Model ./final_word2vec_model save done!\n",
      "Epoch 17, loss: 815424.00, time: 0min 9s\n",
      "Better model. Best loss: 815424.00\n",
      "Model ./final_word2vec_model save done!\n",
      "Epoch 18, loss: 829160.00, time: 0min 9s\n",
      "Epoch 19, loss: 792630.00, time: 0min 9s\n",
      "Better model. Best loss: 792630.00\n",
      "Model ./final_word2vec_model save done!\n",
      "Epoch 20, loss: 775228.00, time: 0min 9s\n",
      "Better model. Best loss: 775228.00\n",
      "Model ./final_word2vec_model save done!\n",
      "Time to train: 3min 29s\n"
     ]
    }
   ],
   "source": [
    "since = time.time()\n",
    "model_word2vec.train(all_doc, total_examples=model_word2vec.corpus_count, \n",
    "                        epochs=20, compute_loss=True, report_delay=60*10,\n",
    "                        callbacks=[EpochSaver('./final_word2vec_model')])\n",
    "time_elapsed = time.time() - since\n",
    "print('Time to train: {:.0f}min {:.0f}s'.format(time_elapsed // 60, time_elapsed % 60))"
   ]
  },
  {
   "cell_type": "code",
   "execution_count": 13,
   "metadata": {},
   "outputs": [],
   "source": [
    "tokenizer = Tokenizer()\n",
    "#tokenizer.fit_on_texts(train_title + test_title)\n",
    "tokenizer.fit_on_texts(train_content + test_content)"
   ]
  },
  {
   "cell_type": "code",
   "execution_count": 14,
   "metadata": {},
   "outputs": [
    {
     "name": "stderr",
     "output_type": "stream",
     "text": [
      "100%|██████████| 253129/253129 [00:01<00:00, 155482.48it/s]\n"
     ]
    }
   ],
   "source": [
    "# 转化成词向量矩阵，利用新的word2vec模型\n",
    "vocab_size = len(tokenizer.word_index)\n",
    "error_count=0\n",
    "embedding_matrix = np.zeros((vocab_size + 1, 256))\n",
    "for word, i in tqdm(tokenizer.word_index.items()):\n",
    "    vocab = model_word2vec.wv\n",
    "    if word in vocab:\n",
    "        embedding_matrix[i] = model_word2vec.wv[word]\n",
    "    else:\n",
    "        error_count += 1"
   ]
  },
  {
   "cell_type": "code",
   "execution_count": 35,
   "metadata": {},
   "outputs": [
    {
     "name": "stdout",
     "output_type": "stream",
     "text": [
      "(32056, 256)\n"
     ]
    }
   ],
   "source": [
    "print(embedding_matrix.shape)"
   ]
  },
  {
   "cell_type": "code",
   "execution_count": 15,
   "metadata": {},
   "outputs": [],
   "source": [
    "# sequence = tokenizer.texts_to_sequences(train_title)\n",
    "# traintitle = pad_sequences(sequence, maxlen=30)\n",
    "# sequence = tokenizer.texts_to_sequences(test_title)\n",
    "# testtitle = pad_sequences(sequence, maxlen=30)\n",
    "sequence = tokenizer.texts_to_sequences(train_content)\n",
    "traincontent = pad_sequences(sequence, maxlen=512)\n",
    "sequence = tokenizer.texts_to_sequences(test_content)\n",
    "testcontent = pad_sequences(sequence, maxlen=512)"
   ]
  },
  {
   "cell_type": "markdown",
   "metadata": {},
   "source": [
    "# BaseLine"
   ]
  },
  {
   "cell_type": "code",
   "execution_count": 16,
   "metadata": {},
   "outputs": [],
   "source": [
    "import tensorflow as tf\n",
    "def metric_F1score(y_true,y_pred):    \n",
    "    TP=tf.reduce_sum(y_true*tf.round(y_pred))\n",
    "    TN=tf.reduce_sum((1-y_true)*(1-tf.round(y_pred)))\n",
    "    FP=tf.reduce_sum((1-y_true)*tf.round(y_pred))\n",
    "    FN=tf.reduce_sum(y_true*(1-tf.round(y_pred)))\n",
    "    precision=TP/(TP+FP)\n",
    "    recall=TP/(TP+FN)\n",
    "    F1score=2*precision*recall/(precision+recall)\n",
    "    return F1score"
   ]
  },
  {
   "cell_type": "code",
   "execution_count": 23,
   "metadata": {},
   "outputs": [
    {
     "name": "stdout",
     "output_type": "stream",
     "text": [
      "Model: \"sequential_3\"\n",
      "_________________________________________________________________\n",
      "Layer (type)                 Output Shape              Param #   \n",
      "=================================================================\n",
      "embedding_3 (Embedding)      (None, 30, 256)           64801280  \n",
      "_________________________________________________________________\n",
      "bidirectional_3 (Bidirection (None, 128)               164352    \n",
      "_________________________________________________________________\n",
      "dense_6 (Dense)              (None, 10)                1290      \n",
      "_________________________________________________________________\n",
      "dropout_3 (Dropout)          (None, 10)                0         \n",
      "_________________________________________________________________\n",
      "dense_7 (Dense)              (None, 3)                 33        \n",
      "=================================================================\n",
      "Total params: 64,966,955\n",
      "Trainable params: 64,966,955\n",
      "Non-trainable params: 0\n",
      "_________________________________________________________________\n"
     ]
    }
   ],
   "source": [
    "import keras\n",
    "model = Sequential()\n",
    "model.add(Embedding(input_dim=len(tokenizer.word_index) + 1, \n",
    "                    output_dim=256, \n",
    "                    input_length=30, \n",
    "                    weights=[embedding_matrix]))\n",
    "model.add(Bidirectional(LSTM(64, dropout=0.3, recurrent_dropout=0.1)))\n",
    "model.add(Dense(10))\n",
    "model.add(Dropout(0.35))\n",
    "model.add(Dense(3, activation='softmax'))\n",
    "optimizer = keras.optimizers.adam_v2.Adam(learning_rate=0.005)\n",
    "model.compile(loss='categorical_crossentropy', optimizer=optimizer, metrics=['accuracy'])\n",
    "# learning_rate_reduction = ReduceLROnPlateau(monitor='val_acc', \n",
    "#                                             patience=3, \n",
    "#                                             verbose=1, \n",
    "#                                             factor=0.5, \n",
    "#                                             min_lr=0.00001)\n",
    "model.summary()"
   ]
  },
  {
   "cell_type": "code",
   "execution_count": 34,
   "metadata": {},
   "outputs": [
    {
     "name": "stdout",
     "output_type": "stream",
     "text": [
      "Model: \"sequential_4\"\n",
      "_________________________________________________________________\n",
      "Layer (type)                 Output Shape              Param #   \n",
      "=================================================================\n",
      "embedding_4 (Embedding)      (None, 512, 256)          64801280  \n",
      "_________________________________________________________________\n",
      "bidirectional_4 (Bidirection (None, 512, 64)           73984     \n",
      "_________________________________________________________________\n",
      "global_max_pooling1d_2 (Glob (None, 64)                0         \n",
      "_________________________________________________________________\n",
      "dense_8 (Dense)              (None, 20)                1300      \n",
      "_________________________________________________________________\n",
      "dropout_4 (Dropout)          (None, 20)                0         \n",
      "_________________________________________________________________\n",
      "dense_9 (Dense)              (None, 3)                 63        \n",
      "=================================================================\n",
      "Total params: 64,876,627\n",
      "Trainable params: 64,876,627\n",
      "Non-trainable params: 0\n",
      "_________________________________________________________________\n"
     ]
    }
   ],
   "source": [
    "from keras.layers import Dense , Input , LSTM , Embedding, Dropout , Activation, GRU, Flatten\n",
    "from keras.layers import Bidirectional, GlobalMaxPool1D\n",
    "from keras.models import Model, Sequential\n",
    "from keras.layers import Convolution1D\n",
    "from keras import initializers, regularizers, constraints, optimizers, layers\n",
    "\n",
    "model = Sequential()\n",
    "model.add(Embedding(input_dim=len(tokenizer.word_index) + 1, \n",
    "                    output_dim=256, \n",
    "                    input_length=512, \n",
    "                    weights=[embedding_matrix]))\n",
    "model.add(Bidirectional(LSTM(32, return_sequences = True)))\n",
    "model.add(GlobalMaxPool1D())\n",
    "model.add(Dense(20, activation=\"relu\"))\n",
    "model.add(Dropout(0.05))\n",
    "model.add(Dense(3, activation=\"softmax\"))\n",
    "model.compile(loss='categorical_crossentropy', optimizer='adam', metrics=['accuracy'])\n",
    "model.summary()"
   ]
  },
  {
   "cell_type": "code",
   "execution_count": 35,
   "metadata": {},
   "outputs": [],
   "source": [
    "label = train['label'].astype(int)\n",
    "train_X, val_X, train_Y, val_Y = train_test_split(traincontent, label, shuffle=True, test_size=0.2,\n",
    "                                                    random_state=2019)\n",
    "val_y=val_Y\n",
    "train_Y = to_categorical(train_Y)\n",
    "val_Y=to_categorical(val_Y)"
   ]
  },
  {
   "cell_type": "code",
   "execution_count": 36,
   "metadata": {},
   "outputs": [
    {
     "name": "stdout",
     "output_type": "stream",
     "text": [
      "Epoch 1/10\n",
      "182/182 [==============================] - 134s 712ms/step - loss: 0.8057 - accuracy: 0.6696 - val_loss: 0.6519 - val_accuracy: 0.7215\n",
      "Epoch 2/10\n",
      "182/182 [==============================] - 123s 677ms/step - loss: 0.5804 - accuracy: 0.7517 - val_loss: 0.6156 - val_accuracy: 0.7331\n",
      "Epoch 3/10\n",
      "182/182 [==============================] - 121s 665ms/step - loss: 0.4303 - accuracy: 0.8281 - val_loss: 0.6020 - val_accuracy: 0.7338\n",
      "Epoch 4/10\n",
      "182/182 [==============================] - 123s 676ms/step - loss: 0.2588 - accuracy: 0.9147 - val_loss: 0.6265 - val_accuracy: 0.7407\n",
      "Epoch 5/10\n",
      "182/182 [==============================] - 124s 683ms/step - loss: 0.1237 - accuracy: 0.9689 - val_loss: 0.6742 - val_accuracy: 0.7421\n",
      "Epoch 6/10\n",
      "182/182 [==============================] - 125s 685ms/step - loss: 0.0618 - accuracy: 0.9871 - val_loss: 0.7322 - val_accuracy: 0.7331\n",
      "Epoch 7/10\n",
      "182/182 [==============================] - 122s 670ms/step - loss: 0.0400 - accuracy: 0.9912 - val_loss: 0.8154 - val_accuracy: 0.7393\n",
      "Epoch 8/10\n",
      "182/182 [==============================] - 122s 670ms/step - loss: 0.0284 - accuracy: 0.9919 - val_loss: 0.8896 - val_accuracy: 0.7235\n",
      "Epoch 9/10\n",
      "182/182 [==============================] - 124s 680ms/step - loss: 0.0235 - accuracy: 0.9933 - val_loss: 0.8934 - val_accuracy: 0.7387\n",
      "Epoch 10/10\n",
      "182/182 [==============================] - 124s 684ms/step - loss: 0.0192 - accuracy: 0.9938 - val_loss: 0.9394 - val_accuracy: 0.7380\n",
      "46/46 [==============================] - 3s 70ms/step - loss: 0.9394 - accuracy: 0.7380\n",
      "test loss: 0.9394449591636658\n",
      "test accuracy: 0.7379642128944397\n"
     ]
    }
   ],
   "source": [
    "history = model.fit(train_X, train_Y, batch_size=32, epochs=10, \n",
    "                    verbose=True, validation_data=(val_X, val_Y))\n",
    " \n",
    "#----------------------------------预测与可视化------------------------------\n",
    "#预测\n",
    "score = model.evaluate(val_X,val_Y, batch_size=32)\n",
    "print('test loss:', score[0])\n",
    "print('test accuracy:', score[1])"
   ]
  },
  {
   "cell_type": "code",
   "execution_count": 37,
   "metadata": {},
   "outputs": [
    {
     "data": {
      "image/png": "[encoded data removed]",
      "text/plain": [
       "<Figure size 432x288 with 1 Axes>"
      ]
     },
     "metadata": {
      "needs_background": "light"
     },
     "output_type": "display_data"
    },
    {
     "data": {
      "image/png": "[encoded data removed]",
      "text/plain": [
       "<Figure size 432x288 with 1 Axes>"
      ]
     },
     "metadata": {
      "needs_background": "light"
     },
     "output_type": "display_data"
    }
   ],
   "source": [
    "import matplotlib.pyplot as plt\n",
    "plt.plot(history.history['loss'],label = 'train_loss')\n",
    "plt.plot(history.history['val_loss'], label = 'testing_loss')\n",
    "plt.title('loss')\n",
    "plt.legend()\n",
    "plt.show()\n",
    "\n",
    "plt.plot(history.history['accuracy'], label='training_accuracy')\n",
    "plt.plot(history.history['val_accuracy'], label='validation acc')\n",
    "plt.title('Accuracy')\n",
    "plt.legend()\n",
    "plt.show()"
   ]
  },
  {
   "cell_type": "code",
   "execution_count": 38,
   "metadata": {},
   "outputs": [],
   "source": [
    "model.save('./model/embedding+LSTM.h5')"
   ]
  },
  {
   "cell_type": "code",
   "execution_count": 39,
   "metadata": {},
   "outputs": [],
   "source": [
    "from keras.models import load_model\n",
    "model=load_model('./model/embedding+LSTM.h5')"
   ]
  },
  {
   "cell_type": "code",
   "execution_count": 40,
   "metadata": {},
   "outputs": [],
   "source": [
    "pre_y=np.argmax(model.predict(val_X),axis=1)\n",
    "val_Y=val_y"
   ]
  },
  {
   "cell_type": "code",
   "execution_count": 41,
   "metadata": {},
   "outputs": [
    {
     "name": "stdout",
     "output_type": "stream",
     "text": [
      "Acc= 0.7379642365887208\n",
      "Precision_score 0.6865110398089335\n",
      "Recall_score 0.6364000539123965\n",
      "F1_score 0.6510558397994897\n"
     ]
    }
   ],
   "source": [
    "from sklearn.metrics import accuracy_score\n",
    "from sklearn.metrics import f1_score\n",
    "from sklearn.metrics import recall_score\n",
    "from sklearn.metrics import precision_score\n",
    "test_accracy = accuracy_score(val_Y,pre_y)\n",
    "F1_score=f1_score(val_Y,pre_y,average='macro')\n",
    "Recall_score=recall_score(val_Y,pre_y,average='macro')\n",
    "Precision_score=precision_score(val_Y,pre_y,average='macro')\n",
    "print(\"Acc=\",test_accracy)\n",
    "print(\"Precision_score\",Precision_score)\n",
    "print(\"Recall_score\",Recall_score)\n",
    "print(\"F1_score\",F1_score)\n"
   ]
  },
  {
   "cell_type": "code",
   "execution_count": null,
   "metadata": {},
   "outputs": [],
   "source": [
    "model.summary()"
   ]
  },
  {
   "cell_type": "code",
   "execution_count": null,
   "metadata": {},
   "outputs": [],
   "source": [
    "label = train['label'].astype(int)\n",
    "# labels = to_categorical(label) \n",
    "# train_X, val_X, train_Y, val_Y = train_test_split(traintitle, label, shuffle=True, test_size=0.2,\n",
    "#                                                     random_state=2019)\n",
    "train_X, val_X, train_Y, val_Y = train_test_split(traintitle, label, shuffle=True, test_size=0.2,\n",
    "                                                    random_state=2019)\n",
    "train_Y = to_categorical(train_Y)\n"
   ]
  },
  {
   "cell_type": "code",
   "execution_count": null,
   "metadata": {},
   "outputs": [],
   "source": [
    "model.fit(train_X,\n",
    "          train_Y,\n",
    "          batch_size=128,\n",
    "          epochs=10)\n",
    "# model.fit(traintitle,\n",
    "#           labels,\n",
    "#           batch_size=128,\n",
    "#           epochs=3,\n",
    "#           shuffle=True)"
   ]
  },
  {
   "cell_type": "code",
   "execution_count": null,
   "metadata": {},
   "outputs": [],
   "source": [
    "from sklearn.metrics import f1_score\n",
    "pred_val = model.predict(val_X)\n",
    "print(f1_score(val_Y, np.argmax(pred_val, axis=1), average='macro'))\n"
   ]
  },
  {
   "cell_type": "code",
   "execution_count": null,
   "metadata": {},
   "outputs": [],
   "source": [
    "test[test.label==0]"
   ]
  },
  {
   "cell_type": "code",
   "execution_count": null,
   "metadata": {},
   "outputs": [],
   "source": [
    "test[['id', 'label']].to_csv('baseline4.csv', index=False)\n"
   ]
  }
 ],
 "metadata": {
  "kernelspec": {
   "display_name": "Python 3.6.3 64-bit",
   "language": "python",
   "name": "python3"
  },
  "language_info": {
   "codemirror_mode": {
    "name": "ipython",
    "version": 3
   },
   "file_extension": ".py",
   "mimetype": "text/x-python",
   "name": "python",
   "nbconvert_exporter": "python",
   "pygments_lexer": "ipython3",
   "version": "3.6.3"
  },
  "vscode": {
   "interpreter": {
    "hash": "d1cac20a0be55dd1fe2f46a071e6ccfd0d69730ae8edcfbd71c03315cff00f8f"
   }
  }
 },
 "nbformat": 4,
 "nbformat_minor": 2
}
